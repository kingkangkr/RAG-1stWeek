{
 "cells": [
  {
   "cell_type": "code",
   "execution_count": 20,
   "metadata": {},
   "outputs": [],
   "source": [
    "import pickle\n",
    "from datasets import load_dataset\n",
    "import random\n",
    "\n",
    "# KorQuAD 데이터셋 로드\n",
    "dataset = load_dataset(\"KorQuAD/squad_kor_v1\")\n",
    "\n",
    "# 상위 10개 샘플만 선택\n",
    "subset = dataset['train'].select(range(10))\n",
    "\n",
    "# 데이터 준비 (상위 10개만 선택)\n",
    "questions = [sample['question'] for sample in subset]\n",
    "contexts = [sample['context'] for sample in subset]\n",
    "answers = [sample['answers']['text'][0] for sample in subset]\n",
    "\n",
    "# 각 질문에 대해 여러 개의 Context 생성 (정답 포함 + 무작위 Context 추가)\n",
    "num_contexts = 3  # 각 질문에 대해 3개의 Context 설정\n",
    "all_contexts = []\n",
    "for i in range(len(questions)):\n",
    "    context_list = [contexts[i]]  # 정답이 포함된 실제 Context\n",
    "    for _ in range(num_contexts - 1):  # 나머지 Context는 무작위로 추가\n",
    "        random_context = random.choice(contexts)\n",
    "        context_list.append(random_context)\n",
    "    all_contexts.append(context_list)\n",
    "\n",
    "# RAG 데이터 구조 생성\n",
    "rag_data = {\n",
    "    'questions': questions,\n",
    "    'contexts': all_contexts,\n",
    "    'contexts_answer_idx': [0] * len(questions),  # 실제 답변이 포함된 Context 인덱스를 첫 번째로 설정\n",
    "    'answers': answers\n",
    "}\n",
    "\n",
    "# pickle로 데이터 저장\n",
    "with open('korquad_rag_data_10.pkl', 'wb') as f:\n",
    "    pickle.dump(rag_data, f)\n"
   ]
  },
  {
   "cell_type": "code",
   "execution_count": 21,
   "metadata": {},
   "outputs": [
    {
     "data": {
      "text/plain": [
       "10"
      ]
     },
     "execution_count": 21,
     "metadata": {},
     "output_type": "execute_result"
    }
   ],
   "source": [
    "len(questions)"
   ]
  },
  {
   "cell_type": "code",
   "execution_count": 22,
   "metadata": {},
   "outputs": [
    {
     "name": "stdout",
     "output_type": "stream",
     "text": [
      "바그너는 괴테의 파우스트를 읽고 무엇을 쓰고자 했는가?\n",
      "바그너는 교향곡 작곡을 어디까지 쓴 뒤에 중단했는가?\n",
      "바그너가 파우스트 서곡을 쓸 때 어떤 곡의 영향을 받았는가?\n",
      "1839년 바그너가 교향곡의 소재로 쓰려고 했던 책은?\n",
      "파우스트 서곡의 라단조 조성이 영향을 받은 베토벤의 곡은?\n"
     ]
    }
   ],
   "source": [
    "for question in questions[:5]:\n",
    "    print(question)"
   ]
  },
  {
   "cell_type": "code",
   "execution_count": null,
   "metadata": {},
   "outputs": [],
   "source": [
    "from ragas.llms import LangchainLLMWrapper\n",
    "from langchain_openai import ChatOpenAI\n",
    "evaluator_llm = LangchainLLMWrapper(ChatOpenAI(model=\"gpt-4o\"))\n",
    "\n"
   ]
  },
  {
   "cell_type": "code",
   "execution_count": 24,
   "metadata": {},
   "outputs": [
    {
     "name": "stderr",
     "output_type": "stream",
     "text": [
      "100%|██████████| 10/10 [00:18<00:00,  1.88s/it]\n"
     ]
    }
   ],
   "source": [
    "from tqdm import tqdm\n",
    "from utils import call_openai, get_embeddings, cosine_similarity\n",
    "\n",
    "predictions = []\n",
    "\n",
    "# 각 질문에 대해 OpenAI 모델을 호출하여 예측 응답을 생성\n",
    "for i in tqdm(range(len(questions))):\n",
    "    prompt = f\"\"\"You are an expert in reading comprehension and Korean general knowledge. Please answer to the question given below. Use information given in Context appropriately.\n",
    "    \n",
    "Question:\n",
    "{questions[i]}\n",
    "\"\"\"\n",
    "\n",
    "    prediction = call_openai(prompt, model='gpt-4o-2024-05-13')  # OpenAI 모델 호출하여 응답 생성\n",
    "    predictions.append(prediction)  # 생성된 응답을 predictions 리스트에 추가\n"
   ]
  },
  {
   "cell_type": "code",
   "execution_count": 25,
   "metadata": {},
   "outputs": [
    {
     "data": {
      "text/plain": [
       "['바그너는 괴테의 \"파우스트\"를 읽고 \"파우스트 서곡\"을 쓰고자 했습니다.',\n",
       " '바그너는 교향곡 작곡을 제1악장까지 쓴 뒤에 중단했습니다.',\n",
       " '바그너가 파우스트 서곡을 쓸 때 베를리오즈의 \"환상 교향곡\"의 영향을 받았습니다.',\n",
       " '1839년 바그너가 교향곡의 소재로 쓰려고 했던 책은 \"파우스트\"입니다.',\n",
       " \"질문에 답하기 위해서는 파우스트 서곡의 라단조 조성에 영향을 준 베토벤의 곡을 알아야 합니다. 파우스트 서곡은 독일 작곡가 리하르트 바그너가 작곡한 곡으로, 베토벤의 영향을 많이 받았습니다. 특히, 베토벤의 교향곡 9번 '합창'의 1악장이 라단조로 되어 있어 파우스트 서곡의 라단조 조성에 영향을 준 것으로 알려져 있습니다.\\n\\n따라서, 파우스트 서곡의 라단조 조성이 영향을 받은 베토벤의 곡은 **교향곡 9번 '합창'**입니다.\",\n",
       " '바그너가 파우스트를 처음으로 읽은 년도는 1831년입니다.',\n",
       " '질문에 답하기 위해서는 바그너가 처음 교향곡을 작곡한 장소에 대한 정보가 필요합니다. 주어진 문맥(Context)에서 이 정보를 찾아야 합니다. 그러나 현재 제공된 문맥이 없기 때문에, 일반적인 지식을 바탕으로 답변을 드리겠습니다.\\n\\n리하르트 바그너(Richard Wagner)는 주로 오페라 작곡가로 알려져 있으며, 그의 교향곡 작곡 활동은 상대적으로 덜 알려져 있습니다. 바그너는 1832년에 첫 번째 교향곡을 작곡했으며, 이 교향곡은 독일의 라이프치히에서 작곡되었습니다.\\n\\n따라서, 바그너가 처음 교향곡을 작곡한 장소는 **독일 라이프치히**입니다.',\n",
       " '질문에 답하기 위해서는 바그너의 1악장이 초연된 장소에 대한 구체적인 정보가 필요합니다. 그러나 주어진 문맥(Context)에서 이 정보를 제공하지 않았기 때문에 정확한 답변을 드릴 수 없습니다. 바그너의 1악장이 초연된 장소에 대한 정보를 제공해 주시면, 그에 따라 답변을 드릴 수 있습니다.',\n",
       " '질문에 답하기 위해서는 주어진 문맥(Context)이 필요합니다. 주어진 문맥이 없기 때문에, 일반적인 지식에 기반하여 답변을 드리겠습니다.\\n\\n바그너의 작품을 \"시인의 피로 쓰여졌다\"고 극찬한 인물로는 프랑스의 시인 샤를 보들레르(Charles Baudelaire)가 있습니다. 보들레르는 바그너의 음악에 깊은 감명을 받아 그의 작품을 극찬한 것으로 알려져 있습니다.\\n\\n만약 주어진 문맥이 있다면, 그 문맥을 바탕으로 더 정확한 답변을 드릴 수 있습니다. 문맥을 제공해 주시면 감사하겠습니다.',\n",
       " 'Context:\\n잊혀져 있는 파우스트 서곡 1악장을 부활시킨 것은 1886년 12월 8일, 제임스 헌스베르거가 지휘하는 뉴욕 필하모닉에 의해 연주되면서였다.\\n\\nAnswer:\\n잊혀져 있는 파우스트 서곡 1악장을 부활시킨 것은 제임스 헌스베르거이다.']"
      ]
     },
     "execution_count": 25,
     "metadata": {},
     "output_type": "execute_result"
    }
   ],
   "source": [
    "predictions"
   ]
  },
  {
   "cell_type": "code",
   "execution_count": 27,
   "metadata": {},
   "outputs": [
    {
     "name": "stderr",
     "output_type": "stream",
     "text": [
      "Evaluating: 100%|██████████| 10/10 [00:14<00:00,  1.40s/it]\n"
     ]
    },
    {
     "name": "stdout",
     "output_type": "stream",
     "text": [
      "                          user_input  \\\n",
      "0     바그너는 괴테의 파우스트를 읽고 무엇을 쓰고자 했는가?   \n",
      "1      바그너는 교향곡 작곡을 어디까지 쓴 뒤에 중단했는가?   \n",
      "2  바그너가 파우스트 서곡을 쓸 때 어떤 곡의 영향을 받았는가?   \n",
      "3     1839년 바그너가 교향곡의 소재로 쓰려고 했던 책은?   \n",
      "4   파우스트 서곡의 라단조 조성이 영향을 받은 베토벤의 곡은?   \n",
      "\n",
      "                                            response    reference  \\\n",
      "0           바그너는 괴테의 \"파우스트\"를 읽고 \"파우스트 서곡\"을 쓰고자 했습니다.          교향곡   \n",
      "1                   바그너는 교향곡 작곡을 제1악장까지 쓴 뒤에 중단했습니다.          1악장   \n",
      "2      바그너가 파우스트 서곡을 쓸 때 베를리오즈의 \"환상 교향곡\"의 영향을 받았습니다.  베토벤의 교향곡 9번   \n",
      "3           1839년 바그너가 교향곡의 소재로 쓰려고 했던 책은 \"파우스트\"입니다.         파우스트   \n",
      "4  질문에 답하기 위해서는 파우스트 서곡의 라단조 조성에 영향을 준 베토벤의 곡을 알아...        합창교향곡   \n",
      "\n",
      "   factual_correctness  \n",
      "0                 0.00  \n",
      "1                 0.00  \n",
      "2                 0.00  \n",
      "3                 0.67  \n",
      "4                 0.00  \n"
     ]
    }
   ],
   "source": [
    "from ragas.metrics import FactualCorrectness\n",
    "from ragas.dataset_schema import SingleTurnSample, EvaluationDataset\n",
    "from ragas import evaluate\n",
    "\n",
    "# 평가할 샘플 생성\n",
    "samples = []\n",
    "for question, ai_response, ground_truth in zip(questions, predictions, answers):\n",
    "    sample = SingleTurnSample(\n",
    "        user_input=question,       # 사용자 질문\n",
    "        response=ai_response,      # AI의 응답\n",
    "        reference=ground_truth     # 정답\n",
    "    )\n",
    "    samples.append(sample)\n",
    "\n",
    "# 평가 데이터셋 생성\n",
    "dataset = EvaluationDataset(samples)\n",
    "\n",
    "# Factual Correctness 메트릭 정의 (llm 매개변수 제거)\n",
    "factual_correctness_metric = FactualCorrectness()\n",
    "\n",
    "# 평가 수행\n",
    "results = evaluate(dataset, metrics=[factual_correctness_metric])\n",
    "\n",
    "# 결과를 데이터프레임으로 변환하여 출력\n",
    "results_df = results.to_pandas()\n",
    "print(results_df.head())\n"
   ]
  },
  {
   "cell_type": "code",
   "execution_count": 28,
   "metadata": {},
   "outputs": [
    {
     "name": "stdout",
     "output_type": "stream",
     "text": [
      "Response 1:\n",
      "바그너는 괴테의 \"파우스트\"를 읽고 \"파우스트 서곡\"을 쓰고자 했습니다.\n",
      "--------------------------------------------------------------------------------\n",
      "Response 2:\n",
      "바그너는 교향곡 작곡을 제1악장까지 쓴 뒤에 중단했습니다.\n",
      "--------------------------------------------------------------------------------\n",
      "Response 3:\n",
      "바그너가 파우스트 서곡을 쓸 때 베를리오즈의 \"환상 교향곡\"의 영향을 받았습니다.\n",
      "--------------------------------------------------------------------------------\n",
      "Response 4:\n",
      "1839년 바그너가 교향곡의 소재로 쓰려고 했던 책은 \"파우스트\"입니다.\n",
      "--------------------------------------------------------------------------------\n",
      "Response 5:\n",
      "질문에 답하기 위해서는 파우스트 서곡의 라단조 조성에 영향을 준 베토벤의 곡을 알아야 합니다. 파우스트 서곡은 독일 작곡가 리하르트 바그너가 작곡한 곡으로, 베토벤의 영향을 많이 받았습니다. 특히, 베토벤의 교향곡 9번 '합창'의 1악장이 라단조로 되어 있어 파우스트 서곡의 라단조 조성에 영향을 준 것으로 알려져 있습니다.\n",
      "\n",
      "따라서, 파우스트 서곡의 라단조 조성이 영향을 받은 베토벤의 곡은 **교향곡 9번 '합창'**입니다.\n",
      "--------------------------------------------------------------------------------\n",
      "Response 6:\n",
      "바그너가 파우스트를 처음으로 읽은 년도는 1831년입니다.\n",
      "--------------------------------------------------------------------------------\n",
      "Response 7:\n",
      "질문에 답하기 위해서는 바그너가 처음 교향곡을 작곡한 장소에 대한 정보가 필요합니다. 주어진 문맥(Context)에서 이 정보를 찾아야 합니다. 그러나 현재 제공된 문맥이 없기 때문에, 일반적인 지식을 바탕으로 답변을 드리겠습니다.\n",
      "\n",
      "리하르트 바그너(Richard Wagner)는 주로 오페라 작곡가로 알려져 있으며, 그의 교향곡 작곡 활동은 상대적으로 덜 알려져 있습니다. 바그너는 1832년에 첫 번째 교향곡을 작곡했으며, 이 교향곡은 독일의 라이프치히에서 작곡되었습니다.\n",
      "\n",
      "따라서, 바그너가 처음 교향곡을 작곡한 장소는 **독일 라이프치히**입니다.\n",
      "--------------------------------------------------------------------------------\n",
      "Response 8:\n",
      "질문에 답하기 위해서는 바그너의 1악장이 초연된 장소에 대한 구체적인 정보가 필요합니다. 그러나 주어진 문맥(Context)에서 이 정보를 제공하지 않았기 때문에 정확한 답변을 드릴 수 없습니다. 바그너의 1악장이 초연된 장소에 대한 정보를 제공해 주시면, 그에 따라 답변을 드릴 수 있습니다.\n",
      "--------------------------------------------------------------------------------\n",
      "Response 9:\n",
      "질문에 답하기 위해서는 주어진 문맥(Context)이 필요합니다. 주어진 문맥이 없기 때문에, 일반적인 지식에 기반하여 답변을 드리겠습니다.\n",
      "\n",
      "바그너의 작품을 \"시인의 피로 쓰여졌다\"고 극찬한 인물로는 프랑스의 시인 샤를 보들레르(Charles Baudelaire)가 있습니다. 보들레르는 바그너의 음악에 깊은 감명을 받아 그의 작품을 극찬한 것으로 알려져 있습니다.\n",
      "\n",
      "만약 주어진 문맥이 있다면, 그 문맥을 바탕으로 더 정확한 답변을 드릴 수 있습니다. 문맥을 제공해 주시면 감사하겠습니다.\n",
      "--------------------------------------------------------------------------------\n",
      "Response 10:\n",
      "Context:\n",
      "잊혀져 있는 파우스트 서곡 1악장을 부활시킨 것은 1886년 12월 8일, 제임스 헌스베르거가 지휘하는 뉴욕 필하모닉에 의해 연주되면서였다.\n",
      "\n",
      "Answer:\n",
      "잊혀져 있는 파우스트 서곡 1악장을 부활시킨 것은 제임스 헌스베르거이다.\n",
      "--------------------------------------------------------------------------------\n"
     ]
    }
   ],
   "source": [
    "for i, response in enumerate(results_df['response']):\n",
    "    print(f\"Response {i+1}:\")\n",
    "    print(response)\n",
    "    print(\"-\" * 80)  # 구분선\n"
   ]
  },
  {
   "cell_type": "code",
   "execution_count": 31,
   "metadata": {},
   "outputs": [
    {
     "name": "stdout",
     "output_type": "stream",
     "text": [
      "{'factual_correctness': 0.2150}\n"
     ]
    }
   ],
   "source": [
    "print(results)"
   ]
  },
  {
   "cell_type": "code",
   "execution_count": 32,
   "metadata": {},
   "outputs": [
    {
     "name": "stdout",
     "output_type": "stream",
     "text": [
      "바그너는 괴테의 파우스트를 읽고 무엇을 쓰고자 했는가?\n"
     ]
    }
   ],
   "source": [
    "print(questions[0])"
   ]
  },
  {
   "cell_type": "code",
   "execution_count": 33,
   "metadata": {},
   "outputs": [
    {
     "name": "stdout",
     "output_type": "stream",
     "text": [
      "바그너는 괴테의 \"파우스트\"를 읽고 \"파우스트 서곡\"을 쓰고자 했습니다.\n"
     ]
    }
   ],
   "source": [
    "print(predictions[0])"
   ]
  },
  {
   "cell_type": "code",
   "execution_count": 34,
   "metadata": {},
   "outputs": [
    {
     "name": "stderr",
     "output_type": "stream",
     "text": [
      "100%|██████████| 10/10 [00:32<00:00,  3.21s/it]\n"
     ]
    }
   ],
   "source": [
    "import numpy as np\n",
    "from tqdm import tqdm\n",
    "from utils import call_openai, get_embeddings, cosine_similarity\n",
    "\n",
    "# 질문에 대해 가장 유사한 Context를 검색하는 함수\n",
    "def retrieve_context(question, contexts):\n",
    "    question_embedding = get_embeddings([question], model='text-embedding-3-large')[0]  # 질문의 임베딩 생성\n",
    "    context_embeddings = get_embeddings(contexts, model='text-embedding-3-large')  # Context 임베딩 생성\n",
    "\n",
    "    # 질문과 각 Context 간의 유사도 계산\n",
    "    similarities = [cosine_similarity(question_embedding, context_embedding) for context_embedding in context_embeddings]\n",
    "\n",
    "    # 유사도가 가장 높은 Context 인덱스 반환\n",
    "    most_relevant_index = np.argmax(similarities)\n",
    "    return contexts[most_relevant_index]\n",
    "\n",
    "# 각 질문에 대해 가장 관련 있는 Context를 사용하여 OpenAI 모델에 질문\n",
    "predictions = []\n",
    "for i in tqdm(range(len(questions))):\n",
    "    context = retrieve_context(questions[i], contexts[i])  # 가장 관련 있는 Context 검색\n",
    "    prompt = f\"\"\"You are an expert in reading comprehension and Korean general knowledge. Please answer to the question given below. Use information given in Context appropriately.\n",
    "\n",
    "Context:\n",
    "{context}\n",
    "\n",
    "Question:\n",
    "{questions[i]}\n",
    "\"\"\"\n",
    "    prediction = call_openai(prompt, model='gpt-4o-2024-05-13')  # 모델에 질문과 Context로 응답 생성\n",
    "    predictions.append(prediction)  # 생성된 응답을 predictions 리스트에 추가\n"
   ]
  },
  {
   "cell_type": "code",
   "execution_count": 37,
   "metadata": {},
   "outputs": [
    {
     "name": "stderr",
     "output_type": "stream",
     "text": [
      "Evaluating: 100%|██████████| 10/10 [00:09<00:00,  1.08it/s]\n"
     ]
    },
    {
     "name": "stdout",
     "output_type": "stream",
     "text": [
      "                          user_input  \\\n",
      "0     바그너는 괴테의 파우스트를 읽고 무엇을 쓰고자 했는가?   \n",
      "1      바그너는 교향곡 작곡을 어디까지 쓴 뒤에 중단했는가?   \n",
      "2  바그너가 파우스트 서곡을 쓸 때 어떤 곡의 영향을 받았는가?   \n",
      "3     1839년 바그너가 교향곡의 소재로 쓰려고 했던 책은?   \n",
      "4   파우스트 서곡의 라단조 조성이 영향을 받은 베토벤의 곡은?   \n",
      "\n",
      "                                            response    reference  \\\n",
      "0                   바그너는 괴테의 파우스트를 읽고 오페라를 쓰고자 했습니다.          교향곡   \n",
      "1                   바그너는 교향곡 작곡을 제1악장까지 쓴 뒤에 중단했습니다.          1악장   \n",
      "2      바그너가 파우스트 서곡을 쓸 때 베를리오즈의 \"환상 교향곡\"의 영향을 받았습니다.  베토벤의 교향곡 9번   \n",
      "3           1839년 바그너가 교향곡의 소재로 쓰려고 했던 책은 \"파우스트\"입니다.         파우스트   \n",
      "4  파우스트 서곡의 라단조 조성이 영향을 받은 베토벤의 곡은 \"교향곡 5번\"입니다. 베...        합창교향곡   \n",
      "\n",
      "   factual_correctness  \n",
      "0                 0.00  \n",
      "1                 0.00  \n",
      "2                 0.00  \n",
      "3                 0.67  \n",
      "4                 0.00  \n"
     ]
    }
   ],
   "source": [
    "from ragas.metrics import FactualCorrectness\n",
    "from ragas.dataset_schema import SingleTurnSample, EvaluationDataset\n",
    "from ragas import evaluate\n",
    "\n",
    "# 각 질문, AI 응답, 정답을 사용해 평가할 샘플 생성\n",
    "samples = []\n",
    "for question, ai_response, ground_truth in zip(questions, predictions, answers):\n",
    "    sample = SingleTurnSample(\n",
    "        user_input=question,       # 사용자 질문\n",
    "        response=ai_response,      # AI의 응답\n",
    "        reference=ground_truth     # 정답\n",
    "    )\n",
    "    samples.append(sample)\n",
    "\n",
    "# 평가 데이터셋 생성\n",
    "dataset = EvaluationDataset(samples)\n",
    "\n",
    "# Factual Correctness 메트릭 설정\n",
    "factual_correctness_metric = FactualCorrectness()\n",
    "\n",
    "# 평가 수행 및 결과 저장\n",
    "results = evaluate(dataset, metrics=[factual_correctness_metric])\n",
    "\n",
    "# 결과를 데이터프레임으로 변환하여 출력\n",
    "results_df = results.to_pandas()\n",
    "print(results_df.head())\n"
   ]
  },
  {
   "cell_type": "code",
   "execution_count": 30,
   "metadata": {},
   "outputs": [
    {
     "name": "stderr",
     "output_type": "stream",
     "text": [
      "The cache for model files in Transformers v4.22.0 has been updated. Migrating your old cache. This is a one-time only operation. You can interrupt this and resume the migration later on by calling `transformers.utils.move_cache()`.\n",
      "0it [00:00, ?it/s]\n",
      "c:\\Users\\Byung Mu Kang\\RAG-1stWeek\\myenv\\Lib\\site-packages\\huggingface_hub\\file_download.py:139: UserWarning: `huggingface_hub` cache-system uses symlinks by default to efficiently store duplicated files but your machine does not support them in C:\\Users\\Byung Mu Kang\\.cache\\huggingface\\hub\\models--sentence-transformers--all-MiniLM-L6-v2. Caching files will still work but in a degraded version that might require more space on your disk. This warning can be disabled by setting the `HF_HUB_DISABLE_SYMLINKS_WARNING` environment variable. For more details, see https://huggingface.co/docs/huggingface_hub/how-to-cache#limitations.\n",
      "To support symlinks on Windows, you either need to activate Developer Mode or to run Python as an administrator. In order to activate developer mode, see this article: https://docs.microsoft.com/en-us/windows/apps/get-started/enable-your-device-for-development\n",
      "  warnings.warn(message)\n"
     ]
    },
    {
     "name": "stdout",
     "output_type": "stream",
     "text": [
      "유사도 점수: 0.29\n",
      "유사도 점수: 0.57\n",
      "유사도 점수: 0.36\n",
      "유사도 점수: 0.75\n",
      "유사도 점수: 0.06\n",
      "유사도 점수: 0.17\n",
      "유사도 점수: 0.13\n",
      "유사도 점수: 0.14\n",
      "유사도 점수: 0.12\n",
      "유사도 점수: 0.31\n"
     ]
    }
   ],
   "source": [
    "from sentence_transformers import SentenceTransformer, util\n",
    "\n",
    "# Sentence-BERT 모델을 사용한 임베딩 유사도 계산\n",
    "model = SentenceTransformer('all-MiniLM-L6-v2')\n",
    "similarity_scores = []\n",
    "\n",
    "for question, ai_response, ground_truth in zip(questions, predictions, answers):\n",
    "    # 임베딩 생성\n",
    "    embedding_ref = model.encode(ground_truth, convert_to_tensor=True)\n",
    "    embedding_res = model.encode(ai_response, convert_to_tensor=True)\n",
    "    \n",
    "    # 코사인 유사도 계산\n",
    "    similarity = util.pytorch_cos_sim(embedding_ref, embedding_res).item()\n",
    "    similarity_scores.append(similarity)\n",
    "\n",
    "# 유사도 점수 출력\n",
    "for score in similarity_scores:\n",
    "    print(f\"유사도 점수: {score:.2f}\")\n"
   ]
  },
  {
   "cell_type": "code",
   "execution_count": null,
   "metadata": {},
   "outputs": [],
   "source": []
  }
 ],
 "metadata": {
  "kernelspec": {
   "display_name": "myenv",
   "language": "python",
   "name": "python3"
  },
  "language_info": {
   "codemirror_mode": {
    "name": "ipython",
    "version": 3
   },
   "file_extension": ".py",
   "mimetype": "text/x-python",
   "name": "python",
   "nbconvert_exporter": "python",
   "pygments_lexer": "ipython3",
   "version": "3.12.0"
  }
 },
 "nbformat": 4,
 "nbformat_minor": 2
}
