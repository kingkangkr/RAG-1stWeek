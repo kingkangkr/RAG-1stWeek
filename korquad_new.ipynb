{
 "cells": [
  {
   "cell_type": "code",
   "execution_count": 1,
   "metadata": {},
   "outputs": [
    {
     "name": "stderr",
     "output_type": "stream",
     "text": [
      "c:\\Users\\Byung Mu Kang\\RAG-1stWeek\\myenv\\Lib\\site-packages\\tqdm\\auto.py:21: TqdmWarning: IProgress not found. Please update jupyter and ipywidgets. See https://ipywidgets.readthedocs.io/en/stable/user_install.html\n",
      "  from .autonotebook import tqdm as notebook_tqdm\n"
     ]
    }
   ],
   "source": [
    "import pickle\n",
    "from datasets import load_dataset\n",
    "import random\n",
    "\n",
    "# KorQuAD 데이터셋 로드\n",
    "dataset = load_dataset(\"KorQuAD/squad_kor_v1\")\n",
    "\n",
    "# 상위 10개 샘플만 선택\n",
    "subset = dataset['train'].select(range(10))\n",
    "\n",
    "# 데이터 준비 (상위 10개만 선택)\n",
    "questions = [sample['question'] for sample in subset]\n",
    "contexts = [sample['context'] for sample in subset]\n",
    "answers = [sample['answers']['text'][0] for sample in subset]\n",
    "\n",
    "# 각 질문에 대해 여러 개의 Context 생성 (정답 포함 + 무작위 Context 추가)\n",
    "num_contexts = 3  # 각 질문에 대해 3개의 Context 설정\n",
    "all_contexts = []\n",
    "for i in range(len(questions)):\n",
    "    context_list = [contexts[i]]  # 정답이 포함된 실제 Context\n",
    "    for _ in range(num_contexts - 1):  # 나머지 Context는 무작위로 추가\n",
    "        random_context = random.choice(contexts)\n",
    "        context_list.append(random_context)\n",
    "    all_contexts.append(context_list)\n",
    "\n",
    "# RAG 데이터 구조 생성\n",
    "rag_data = {\n",
    "    'questions': questions,\n",
    "    'contexts': all_contexts,\n",
    "    'contexts_answer_idx': [0] * len(questions),  # 실제 답변이 포함된 Context 인덱스를 첫 번째로 설정\n",
    "    'answers': answers\n",
    "}\n",
    "\n",
    "# pickle로 데이터 저장\n",
    "with open('korquad_rag_data_10_new.pkl', 'wb') as f:\n",
    "    pickle.dump(rag_data, f)\n"
   ]
  },
  {
   "cell_type": "code",
   "execution_count": 2,
   "metadata": {},
   "outputs": [
    {
     "data": {
      "text/plain": [
       "10"
      ]
     },
     "execution_count": 2,
     "metadata": {},
     "output_type": "execute_result"
    }
   ],
   "source": [
    "len(questions)"
   ]
  },
  {
   "cell_type": "code",
   "execution_count": 3,
   "metadata": {},
   "outputs": [
    {
     "name": "stdout",
     "output_type": "stream",
     "text": [
      "바그너는 괴테의 파우스트를 읽고 무엇을 쓰고자 했는가?\n",
      "바그너는 교향곡 작곡을 어디까지 쓴 뒤에 중단했는가?\n",
      "바그너가 파우스트 서곡을 쓸 때 어떤 곡의 영향을 받았는가?\n",
      "1839년 바그너가 교향곡의 소재로 쓰려고 했던 책은?\n",
      "파우스트 서곡의 라단조 조성이 영향을 받은 베토벤의 곡은?\n"
     ]
    }
   ],
   "source": [
    "for question in questions[:5]:\n",
    "    print(question)"
   ]
  },
  {
   "cell_type": "code",
   "execution_count": 4,
   "metadata": {},
   "outputs": [],
   "source": [
    "from ragas.llms import LangchainLLMWrapper\n",
    "from langchain_openai import ChatOpenAI\n",
    "evaluator_llm = LangchainLLMWrapper(ChatOpenAI(model=\"gpt-4o\"))\n",
    "\n"
   ]
  },
  {
   "cell_type": "code",
   "execution_count": null,
   "metadata": {},
   "outputs": [],
   "source": [
    "from tqdm import tqdm\n",
    "from utils import call_openai, get_embeddings, cosine_similarity\n",
    "\n",
    "predictions = []\n",
    "\n",
    "# 각 질문에 대해 OpenAI 모델을 호출하여 예측 응답을 생성\n",
    "for i in tqdm(range(len(questions))):\n",
    "    prompt = f\"\"\"You are an expert in reading comprehension and Korean general knowledge. Please answer the following question using only a single word. Use information given in Context appropriately.\n",
    "    \n",
    "Question:\n",
    "{questions[i]}\n",
    "\"\"\"\n",
    "\n",
    "    prediction = call_openai(prompt, model='gpt-4o-2024-05-13')  # OpenAI 모델 호출하여 응답 생성\n",
    "    predictions.append(prediction)  # 생성된 응답을 predictions 리스트에 추가\n"
   ]
  },
  {
   "cell_type": "code",
   "execution_count": null,
   "metadata": {},
   "outputs": [],
   "source": []
  }
 ],
 "metadata": {
  "kernelspec": {
   "display_name": "myenv",
   "language": "python",
   "name": "python3"
  },
  "language_info": {
   "codemirror_mode": {
    "name": "ipython",
    "version": 3
   },
   "file_extension": ".py",
   "mimetype": "text/x-python",
   "name": "python",
   "nbconvert_exporter": "python",
   "pygments_lexer": "ipython3",
   "version": "3.12.0"
  }
 },
 "nbformat": 4,
 "nbformat_minor": 2
}
